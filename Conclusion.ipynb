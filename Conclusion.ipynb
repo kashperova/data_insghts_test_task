{
 "cells": [
  {
   "cell_type": "markdown",
   "id": "b7f0d62e",
   "metadata": {},
   "source": [
    "# Conclusion after solving test task (Data Insgihts Team)"
   ]
  },
  {
   "cell_type": "markdown",
   "id": "e027f52e",
   "metadata": {},
   "source": [
    "<h4>We have analyzed the relationships between the main properties of the application user, events, event attributes, and unsubscribing.</h4>"
   ]
  },
  {
   "cell_type": "markdown",
   "id": "2f404871",
   "metadata": {},
   "source": [
    "<h3>Below is a list of user attributes from highest to lowest correlation.</h3>\n",
    "<br>outofband ~ 0.82\n",
    "<br>days_using ~ 0.4\n",
    "<br>user_state ~ 0.32\n",
    "<br>device_manufactured ~ 0.22\n",
    "<br>android ~ 0.01\n",
    "<br>ios ~ -0.0"
   ]
  },
  {
   "cell_type": "markdown",
   "id": "c03741f8",
   "metadata": {},
   "source": [
    "<h3 style=\"color:green\">Insights: </h3> \n",
    "<h4>Users that cancelled subsription were often accessing app by out of band platform. </h4>\n",
    "<h4>It can be assumed that users in California are more likely to unsubscribe than users in other states</h4>\n",
    "<h4>Days of using app has moderate corellation with subscription cancellation.</h4>\n",
    "<br></br>\n",
    "<h3>Next is a list of user events from highest to lowest correlation.</h3>"
   ]
  },
  {
   "cell_type": "markdown",
   "id": "62f505f3",
   "metadata": {},
   "source": [
    "<br>Chat Conversation Started ~ 0.76\n",
    "<br>Subscription Premium ~ 0.75\n",
    "<br>Add Payment Method Success ~ 0.7\n",
    "<br>Chat Conversation Opened ~ 0.63\n",
    "<br>Wallet Opened ~ 0.59\n",
    "<br>Account History Transaction Details ~ 0.53\n",
    "<br>Add Vehicle Success ~ 0.44\n",
    "<br>Email Confirmation Success ~ 0.25\n",
    "<br>Add Vehicle Break ~ 0.2\n",
    "<br>Account Setup Skip ~ 0.17\n",
    "<br>Add Payment Method Failed ~ 0.16\n",
    "<br>Calculator View ~ 0.16\n",
    "<br>Sign Out ~ 0.16\n",
    "<br>Order ~ 0.15\n",
    "<br>Account Setup Profile Skip ~ 0.14\n",
    "<br>Subscription Premium Renew ~ 0.09\n",
    "<br>Sign Up Success ~ 0.08\n",
    "<br>Transaction Refund ~ 0.06\n",
    "<br>Sign Up Error ~ 0.04\n",
    "<br>Calculator Used ~ 0.02\n",
    "<br>Add Vehicle Failed ~ 0.02\n",
    "<br>Reset Password Set ~ -0.01"
   ]
  },
  {
   "cell_type": "markdown",
   "id": "849fda75",
   "metadata": {},
   "source": [
    "<h3 style=\"color:green\">Insights: </h3> \n",
    "<h4>Buying Subscription Premium is highly correlated with premium subscription cancellation. Approximately 7% of users cancelled subscription more than 1 time. </h4>\n",
    "<h4>Adding payment and vehicle registration are moderately corellated with subscription cancellation. We can assume that the more often you add a payment method and a vehicle to the app, the higher the probability of unsubscribing </h4>\n",
    "<h4>High degree of correlation for Chat Conversation Started. The more often a user accesses the support chat, the higher the probability of unsubscribing</h4>\n",
    "<h4>Moderate degree for Wallet Opened and Account History Transaction Details. We can assume that such actions as checking billing errors and current balance increase probability of subscription cancellation</h4>\n",
    "<br></br>"
   ]
  },
  {
   "cell_type": "markdown",
   "id": "4af5fdfa",
   "metadata": {},
   "source": [
    "<h3>Next is a list of events attributes from highest to lowest correlation.</h3>"
   ]
  },
  {
   "cell_type": "markdown",
   "id": "d4abe780",
   "metadata": {},
   "source": [
    "<br>Account History Transactions Details:\n",
    "<br>[('Type', 0.16), ('Status', 0.08), ('Navigated From', 0.03)]\n",
    "<br>\n",
    "<br>Subscription Premium:\n",
    "<br>[('Start Date', 0.45), ('Renewal Date', 0.44), ('Renewal Month', 0.25), ('Start Month', 0.23)]\n",
    "<br>\n",
    "<br>Add Payment Method Success:\n",
    "<br>[('Payment Method', 0.21), ('Tokenized Pay', 0.0)]\n",
    "<br>\n",
    "<br>Add Vehicle Sucess:\n",
    "<br>[('Color', 0.16), ('Temporary', 0.14), ('Model', 0.13), ('Make', 0.09), ('Year', 0.09)]"
   ]
  },
  {
   "cell_type": "markdown",
   "id": "43171b1e",
   "metadata": {},
   "source": [
    "<h3 style=\"color:green\">Insights: </h3> \n",
    "<h4>We can assume that users who, started premium subscription in April, cancelled it more often.</h4>\n",
    "<h4>Also we can assume that users who used credit card as payment method cancelled subsciption more often.</h4>\n",
    "<h4>Chat conversation opened from Menu has moderate corellation with cancelled subscription. Users who opened the support chat from the app menu rather than from the dashboard were more likely to unsubscribe </h4>\n",
    "<h4>We can assume that users look at auto-pay information much more often before unsubscribing </h4>\n",
    "<h4>Users who added Chevrolet vehicle have very weak correlation with subscription cancellation</h4>"
   ]
  }
 ],
 "metadata": {
  "kernelspec": {
   "display_name": "Python 3 (ipykernel)",
   "language": "python",
   "name": "python3"
  },
  "language_info": {
   "codemirror_mode": {
    "name": "ipython",
    "version": 3
   },
   "file_extension": ".py",
   "mimetype": "text/x-python",
   "name": "python",
   "nbconvert_exporter": "python",
   "pygments_lexer": "ipython3",
   "version": "3.9.13"
  }
 },
 "nbformat": 4,
 "nbformat_minor": 5
}
